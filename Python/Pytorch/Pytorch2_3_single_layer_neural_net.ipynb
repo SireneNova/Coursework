{
  "nbformat": 4,
  "nbformat_minor": 0,
  "metadata": {
    "colab": {
      "name": "PytorchPart3-4-single-layer.ipynb",
      "provenance": [],
      "collapsed_sections": [],
      "include_colab_link": true
    },
    "kernelspec": {
      "name": "python3",
      "display_name": "Python 3"
    }
  },
  "cells": [
    {
      "cell_type": "markdown",
      "metadata": {
        "id": "view-in-github",
        "colab_type": "text"
      },
      "source": [
        "<a href=\"https://colab.research.google.com/github/SireneNova/Coursework/blob/master/Python/Pytorch/Pytorch2_3_single_layer_neural_net.ipynb\" target=\"_parent\"><img src=\"https://colab.research.google.com/assets/colab-badge.svg\" alt=\"Open In Colab\"/></a>"
      ]
    },
    {
      "cell_type": "code",
      "metadata": {
        "id": "b6wY2eJGr_Y9",
        "colab_type": "code",
        "colab": {
          "base_uri": "https://localhost:8080/",
          "height": 51
        },
        "outputId": "30782282-03ba-42ed-8d4f-85e432a57add"
      },
      "source": [
        "import torch\n",
        "\n",
        "#sigmoid activation function (probability)\n",
        "def activation(x):\n",
        "  return 1/(1+torch.exp(-x))\n",
        "\n",
        "### Generate some data\n",
        "torch.manual_seed(7) #set the random seed so things are predictable\n",
        "\n",
        "# Features are 5 random normal variables\n",
        "features = torch.randn(1, 5) #making a 2d tensor of 1 row and 5 columns\n",
        "\n",
        "# True weights for out data, random normal variables again\n",
        "weights = torch.randn_like(features)\n",
        "\n",
        "#and tru bias term\n",
        "bias = torch.randn((1,1))\n",
        "\n",
        "innerproduct = torch.sum(features * weights)\n",
        "thesum = innerproduct + bias\n",
        "theprobability = activation(thesum)\n",
        "print(theprobability)\n",
        "\n",
        "\n",
        "#part 1-2\n",
        "\n",
        "#torch.mm doesn't work above because of a matrix mismatch. the columns of one need to match the rows of the other.\n",
        "#can reshape:\n",
        "#weights2=weights.reshape(5,1)\n",
        "weights2 = weights.view(5,1)  #changes to 5 rows and 1 column\n",
        "innerproduct = torch.mm(features, weights2)\n",
        "thesum = innerproduct+bias\n",
        "theprobability = activation(thesum)\n",
        "print(theprobability)\n",
        "\n",
        "\n"
      ],
      "execution_count": null,
      "outputs": [
        {
          "output_type": "stream",
          "text": [
            "tensor([[0.1595]])\n",
            "tensor([[0.1595]])\n"
          ],
          "name": "stdout"
        }
      ]
    }
  ]
}
