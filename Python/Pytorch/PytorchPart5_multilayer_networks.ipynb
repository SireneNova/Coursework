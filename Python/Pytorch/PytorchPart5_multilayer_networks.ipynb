{
  "nbformat": 4,
  "nbformat_minor": 0,
  "metadata": {
    "colab": {
      "name": "PytorchPart5-multilayer-networks.ipynb",
      "provenance": [],
      "collapsed_sections": [],
      "include_colab_link": true
    },
    "kernelspec": {
      "name": "python3",
      "display_name": "Python 3"
    }
  },
  "cells": [
    {
      "cell_type": "markdown",
      "metadata": {
        "id": "view-in-github",
        "colab_type": "text"
      },
      "source": [
        "<a href=\"https://colab.research.google.com/github/SireneNova/Coursework/blob/master/Python/Pytorch/PytorchPart5_multilayer_networks.ipynb\" target=\"_parent\"><img src=\"https://colab.research.google.com/assets/colab-badge.svg\" alt=\"Open In Colab\"/></a>"
      ]
    },
    {
      "cell_type": "code",
      "metadata": {
        "id": "b6wY2eJGr_Y9",
        "colab_type": "code",
        "colab": {
          "base_uri": "https://localhost:8080/",
          "height": 85
        },
        "outputId": "27806ab6-d0db-4121-8389-d3ba87c90dfa"
      },
      "source": [
        "import torch\n",
        "import numpy as np\n",
        "# CONVERT BETWEEN NUMPY ARRAYS AND TORCH TENSORS\n",
        "\n",
        "a = np.random.rand(4,3)\n",
        "a\n",
        "\n",
        "b = torch.from_numpy(a)\n",
        "b\n",
        "\n",
        "b.numpy()\n",
        "\n",
        "#memory is shared between the numpy array and torch tensor\n",
        "\n",
        "b.mul_(2)\n",
        "\n"
      ],
      "execution_count": null,
      "outputs": [
        {
          "output_type": "execute_result",
          "data": {
            "text/plain": [
              "tensor([[1.7659, 0.2140, 1.9768],\n",
              "        [0.3558, 1.0207, 0.1735],\n",
              "        [0.5070, 1.1083, 1.2847],\n",
              "        [1.3590, 1.2265, 1.5086]], dtype=torch.float64)"
            ]
          },
          "metadata": {
            "tags": []
          },
          "execution_count": 12
        }
      ]
    }
  ]
}