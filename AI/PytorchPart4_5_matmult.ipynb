{
  "nbformat": 4,
  "nbformat_minor": 0,
  "metadata": {
    "colab": {
      "name": "PytorchPart4-5-matmult.ipynb",
      "provenance": [],
      "collapsed_sections": [],
      "include_colab_link": true
    },
    "kernelspec": {
      "name": "python3",
      "display_name": "Python 3"
    }
  },
  "cells": [
    {
      "cell_type": "markdown",
      "metadata": {
        "id": "view-in-github",
        "colab_type": "text"
      },
      "source": [
        "<a href=\"https://colab.research.google.com/github/SireneNova/Coursework/blob/master/AI/PytorchPart4_5_matmult.ipynb\" target=\"_parent\"><img src=\"https://colab.research.google.com/assets/colab-badge.svg\" alt=\"Open In Colab\"/></a>"
      ]
    },
    {
      "cell_type": "code",
      "metadata": {
        "id": "b6wY2eJGr_Y9",
        "colab_type": "code",
        "outputId": "0e7374a0-7df9-43fc-99d3-5c3e0c1871e4",
        "colab": {
          "base_uri": "https://localhost:8080/",
          "height": 34
        }
      },
      "source": [
        "import torch\n",
        "\n",
        "#sigmoid activation function (probability)\n",
        "def activation(x):\n",
        "  return 1/(1+torch.exp(-x))\n",
        "\n",
        "### Generate some data\n",
        "torch.manual_seed(7) #set the random seed so things are predictable\n",
        "\n",
        "# Features are 5 random normal variables\n",
        "features = torch.randn((1, 3)) #making a 2d tensor of 1 row and 3 columns\n",
        "\n",
        "# Define the size of each layer in our netowork\n",
        "n_input = features.shape[1]   # number of input units, must match number of input features\n",
        "n_hidden = 2                  # number of hidden units\n",
        "n_output = 1                  # number of output units\n",
        "\n",
        "# Weights fo inputs to hidden layer\n",
        "W1 = torch.randn(n_input, n_hidden)\n",
        "\n",
        "#Weights for hidden layer to output layer\n",
        "W2 = torch.randn(n_hidden, n_output)\n",
        "\n",
        "#bias term for hidden and output layers\n",
        "B1 = torch.randn((1, n_hidden))\n",
        "B2 = torch.randn((1, n_output))\n",
        "\n",
        "#calculation\n",
        "innerproduct = torch.mm(features, W1)\n",
        "thesum = innerproduct + B1\n",
        "h = activation(thesum) #the probability\n",
        "innerproduct2 = torch.mm(h, W2)\n",
        "thesum2 = innerproduct2 + B2\n",
        "theprobability = activation(thesum2)\n",
        "print(theprobability)\n",
        "\n",
        "\n"
      ],
      "execution_count": 0,
      "outputs": [
        {
          "output_type": "stream",
          "text": [
            "tensor([[0.3171]])\n"
          ],
          "name": "stdout"
        }
      ]
    }
  ]
}